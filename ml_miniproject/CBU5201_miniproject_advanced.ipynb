{
 "cells": [
  {
   "cell_type": "markdown",
   "source": [
    "# 1 Author\n",
    "\n",
    "**Student Name**:  LuTianyu\n",
    "**QM Student ID**:  210981405\n",
    "**BUPT Student ID**:  2021213058\n",
    "\n"
   ],
   "metadata": {
    "collapsed": false
   },
   "id": "326e20642aac45a3"
  },
  {
   "cell_type": "markdown",
   "source": [
    "# 2 Problem formulation\n",
    "\n",
    "Describe the machine learning problem that you want to solve and explain what's interesting about it."
   ],
   "metadata": {
    "collapsed": false
   },
   "id": "a629b8e6d2f53ac9"
  },
  {
   "cell_type": "markdown",
   "source": [
    "# 3 Machine Learning pipeline\n",
    "\n",
    "Describe your ML pipeline. Clearly identify its input and output, any intermediate stages (for instance, transformation -> models), and intermediate data moving from one stage to the next. It's up to you to decide which stages to include in your pipeline. "
   ],
   "metadata": {
    "collapsed": false
   },
   "id": "7bf479937a6d5f24"
  },
  {
   "cell_type": "markdown",
   "source": [
    "# 4 Transformation stage\n",
    "\n",
    "Describe any transformations, such as feature extraction. Identify input and output. Explain why you have chosen this transformation stage."
   ],
   "metadata": {
    "collapsed": false
   },
   "id": "c4928639be9abc04"
  },
  {
   "cell_type": "markdown",
   "source": [
    "# 5 Modelling\n",
    "\n",
    "Describe the ML model(s) that you will build. Explain why you have chosen them."
   ],
   "metadata": {
    "collapsed": false
   },
   "id": "b51efac09d4c564d"
  },
  {
   "cell_type": "markdown",
   "source": [
    "# 6 Methodology\n",
    "\n",
    "Describe how you will train and validate your models, how model performance is assesssed (i.e. accuracy, confusion matrix, etc)"
   ],
   "metadata": {
    "collapsed": false
   },
   "id": "f62376f3596fb784"
  },
  {
   "cell_type": "markdown",
   "source": [
    "# 7 Dataset\n",
    "\n",
    "Describe the dataset that you will use to create your models and validate them. If you need to preprocess it, do it here. Include visualisations too. You can visualise raw data samples or extracted features."
   ],
   "metadata": {
    "collapsed": false
   },
   "id": "f04af8f3fafd1ad1"
  },
  {
   "cell_type": "markdown",
   "source": [
    "# 8 Results\n",
    "\n",
    "Carry out your experiments here, explain your results."
   ],
   "metadata": {
    "collapsed": false
   },
   "id": "29d7d7dfe0a681ed"
  },
  {
   "cell_type": "markdown",
   "source": [
    "# 9 Conclusions\n",
    "\n",
    "Your conclusions, improvements, etc should go here"
   ],
   "metadata": {
    "collapsed": false
   },
   "id": "94713ea27d8821be"
  }
 ],
 "metadata": {
  "kernelspec": {
   "display_name": "Python 3",
   "language": "python",
   "name": "python3"
  },
  "language_info": {
   "codemirror_mode": {
    "name": "ipython",
    "version": 2
   },
   "file_extension": ".py",
   "mimetype": "text/x-python",
   "name": "python",
   "nbconvert_exporter": "python",
   "pygments_lexer": "ipython2",
   "version": "2.7.6"
  }
 },
 "nbformat": 4,
 "nbformat_minor": 5
}
