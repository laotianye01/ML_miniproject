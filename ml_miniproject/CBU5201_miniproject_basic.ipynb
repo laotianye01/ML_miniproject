{
 "cells": [
  {
   "cell_type": "markdown",
   "source": [
    "# 1 Author\n",
    "\n",
    "**Student Name**:  LuTianyu\n",
    "**QM Student ID**:  210981405\n",
    "**BUPT Student ID**:  2021213058\n",
    "\n"
   ],
   "metadata": {
    "collapsed": false
   },
   "id": "a8f72dd3719587bd"
  },
  {
   "cell_type": "markdown",
   "source": [
    "# 2 Problem formulation\n",
    "\n",
    "Varify whether the people in the given dataset is smile or not "
   ],
   "metadata": {
    "collapsed": false
   },
   "id": "8513cae9e07e307c"
  },
  {
   "cell_type": "markdown",
   "source": [
    "# 3 Machine Learning pipeline\n",
    "\n",
    "First, I will re-generate the given dataset format in order to training the classification network. Then, I will use the dataset to train my network."
   ],
   "metadata": {
    "collapsed": false
   },
   "id": "87316b9f110cc663"
  },
  {
   "cell_type": "markdown",
   "source": [
    "# 4 Transformation stage\n",
    "\n",
    "re-generating the given dataset & adjust data format"
   ],
   "metadata": {
    "collapsed": false
   },
   "id": "f8e12f7a2ec1bf36"
  },
  {
   "cell_type": "code",
   "execution_count": null,
   "outputs": [],
   "source": [
    "import os\n",
    "import cv2\n",
    "\n",
    "\n",
    "dst_dir = \"C:\\\\Users\\HP\\Desktop\\教学材料\\大三上\\machine learning\\week1\\Lab1.2\\Mini Project\\Mini Project\\classification_dataset\\\\\"\n",
    "src_dir = \"C:\\\\Users\\HP\\Desktop\\教学材料\\大三上\\machine learning\\week1\\Lab1.2\\Mini Project\\Mini Project\\genki4k\\\\files\"\n",
    "\n",
    "count = 1\n",
    "for filename in os.listdir(src_dir):\n",
    "    if filename.endswith(\".jpg\") or filename.endswith(\".png\"):  # 只处理.jpg和.png文件\n",
    "        img_path = src_dir + '\\\\' + filename\n",
    "        img = cv2.imread(img_path)\n",
    "        \n",
    "        if img is not None:  # 检查图片是否成功加载\n",
    "            if count <= 1200:\n",
    "                dst_file = dst_dir + 'train\\\\' + 'smile\\\\' + filename\n",
    "                cv2.imwrite(dst_file, img)\n",
    "            elif count <= 1700:\n",
    "                dst_file = dst_dir + 'valid\\\\' + 'smile\\\\' + filename\n",
    "                cv2.imwrite(dst_file, img)\n",
    "            elif count <= 2162:\n",
    "                dst_file = dst_dir + 'test\\\\' + 'smile\\\\' + filename\n",
    "                cv2.imwrite(dst_file, img)\n",
    "            elif count <= 3200:\n",
    "                dst_file = dst_dir + 'train\\\\' + 'non_smile\\\\' + filename\n",
    "                cv2.imwrite(dst_file, img)\n",
    "            elif count <= 3700:\n",
    "                dst_file = dst_dir + 'valid\\\\' + 'non_smile\\\\' + filename\n",
    "                cv2.imwrite(dst_file, img)\n",
    "            else:\n",
    "                dst_file = dst_dir + 'test\\\\' + 'non_smile\\\\' + filename\n",
    "                cv2.imwrite(dst_file, img)\n",
    "            print(\"saving picture ID: \" + str(count))\n",
    "            count += 1"
   ],
   "metadata": {
    "collapsed": false,
    "is_executing": true,
    "ExecuteTime": {
     "start_time": "2023-12-05T05:44:46.678006500Z"
    }
   },
   "id": "3ad0040eed06d431"
  },
  {
   "cell_type": "markdown",
   "source": [
    "# 5 Modelling\n",
    "\n",
    "Describe the ML model(s) that you will build. Explain why you have chosen them."
   ],
   "metadata": {
    "collapsed": false
   },
   "id": "9c5ecbd2b5100599"
  },
  {
   "cell_type": "markdown",
   "source": [
    "# 6 Methodology\n",
    "\n",
    "Describe how you will train and validate your models, how model performance is assesssed (i.e. accuracy, confusion matrix, etc)"
   ],
   "metadata": {
    "collapsed": false
   },
   "id": "6ebf66ca5a058791"
  },
  {
   "cell_type": "markdown",
   "source": [
    "# 7 Dataset\n",
    "\n",
    "Describe the dataset that you will use to create your models and validate them. If you need to preprocess it, do it here. Include visualisations too. You can visualise raw data samples or extracted features."
   ],
   "metadata": {
    "collapsed": false
   },
   "id": "d29e306997ae0f55"
  },
  {
   "cell_type": "markdown",
   "source": [
    "# 8 Results\n",
    "\n",
    "Carry out your experiments here, explain your results."
   ],
   "metadata": {
    "collapsed": false
   },
   "id": "2e30880248cbb8fd"
  },
  {
   "cell_type": "markdown",
   "source": [
    "# 9 Conclusions\n",
    "\n",
    "Your conclusions, improvements, etc should go here"
   ],
   "metadata": {
    "collapsed": false
   },
   "id": "86772a9cbbb72e4e"
  }
 ],
 "metadata": {
  "kernelspec": {
   "display_name": "Python 3",
   "language": "python",
   "name": "python3"
  },
  "language_info": {
   "codemirror_mode": {
    "name": "ipython",
    "version": 2
   },
   "file_extension": ".py",
   "mimetype": "text/x-python",
   "name": "python",
   "nbconvert_exporter": "python",
   "pygments_lexer": "ipython2",
   "version": "2.7.6"
  }
 },
 "nbformat": 4,
 "nbformat_minor": 5
}
